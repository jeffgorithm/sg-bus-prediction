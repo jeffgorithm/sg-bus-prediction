{
 "cells": [
  {
   "cell_type": "code",
   "execution_count": 285,
   "id": "7c457651",
   "metadata": {},
   "outputs": [
    {
     "name": "stdout",
     "output_type": "stream",
     "text": [
      "<class 'pandas.core.frame.DataFrame'>\n",
      "RangeIndex: 204330 entries, 0 to 204329\n",
      "Data columns (total 4 columns):\n",
      " #   Column         Non-Null Count   Dtype\n",
      "---  ------         --------------   -----\n",
      " 0   bus_stop_code  204330 non-null  int64\n",
      " 1   duration       204330 non-null  int64\n",
      " 2   day            204330 non-null  int64\n",
      " 3   time           204330 non-null  int64\n",
      "dtypes: int64(4)\n",
      "memory usage: 6.2 MB\n"
     ]
    }
   ],
   "source": [
    "import pandas as pd\n",
    "import numpy as np\n",
    "\n",
    "train_df = pd.read_csv(\"../data-retriever/data/cleaned_1_week_transformed.csv\")\n",
    "train_df = train_df.drop(columns = ['current_time', 'hour', 'minute', 'round'])\n",
    "train_df.reset_index()\n",
    "\n",
    "train_df.info()"
   ]
  },
  {
   "cell_type": "code",
   "execution_count": 286,
   "id": "6c5423ab",
   "metadata": {},
   "outputs": [
    {
     "data": {
      "text/html": [
       "<div>\n",
       "<style scoped>\n",
       "    .dataframe tbody tr th:only-of-type {\n",
       "        vertical-align: middle;\n",
       "    }\n",
       "\n",
       "    .dataframe tbody tr th {\n",
       "        vertical-align: top;\n",
       "    }\n",
       "\n",
       "    .dataframe thead th {\n",
       "        text-align: right;\n",
       "    }\n",
       "</style>\n",
       "<table border=\"1\" class=\"dataframe\">\n",
       "  <thead>\n",
       "    <tr style=\"text-align: right;\">\n",
       "      <th></th>\n",
       "      <th>bus_stop_code</th>\n",
       "      <th>duration</th>\n",
       "      <th>day</th>\n",
       "      <th>time</th>\n",
       "    </tr>\n",
       "  </thead>\n",
       "  <tbody>\n",
       "    <tr>\n",
       "      <th>0</th>\n",
       "      <td>4653946529</td>\n",
       "      <td>80</td>\n",
       "      <td>4</td>\n",
       "      <td>1</td>\n",
       "    </tr>\n",
       "    <tr>\n",
       "      <th>1</th>\n",
       "      <td>4652946491</td>\n",
       "      <td>91</td>\n",
       "      <td>4</td>\n",
       "      <td>1</td>\n",
       "    </tr>\n",
       "    <tr>\n",
       "      <th>2</th>\n",
       "      <td>4653946529</td>\n",
       "      <td>80</td>\n",
       "      <td>4</td>\n",
       "      <td>2</td>\n",
       "    </tr>\n",
       "    <tr>\n",
       "      <th>3</th>\n",
       "      <td>4652946491</td>\n",
       "      <td>91</td>\n",
       "      <td>4</td>\n",
       "      <td>2</td>\n",
       "    </tr>\n",
       "    <tr>\n",
       "      <th>4</th>\n",
       "      <td>4652946491</td>\n",
       "      <td>91</td>\n",
       "      <td>4</td>\n",
       "      <td>2</td>\n",
       "    </tr>\n",
       "  </tbody>\n",
       "</table>\n",
       "</div>"
      ],
      "text/plain": [
       "   bus_stop_code  duration  day  time\n",
       "0     4653946529        80    4     1\n",
       "1     4652946491        91    4     1\n",
       "2     4653946529        80    4     2\n",
       "3     4652946491        91    4     2\n",
       "4     4652946491        91    4     2"
      ]
     },
     "execution_count": 286,
     "metadata": {},
     "output_type": "execute_result"
    }
   ],
   "source": [
    "train_df.head()"
   ]
  },
  {
   "cell_type": "code",
   "execution_count": 287,
   "id": "a65d4c2f",
   "metadata": {},
   "outputs": [
    {
     "name": "stdout",
     "output_type": "stream",
     "text": [
      "Training Input Features:\n",
      "['bus_stop_code', 'day', 'time']\n",
      "Training Output Features:\n",
      "['duration']\n"
     ]
    }
   ],
   "source": [
    "#Extract Features Columns\n",
    "train_X = train_df.drop(columns=['duration'])\n",
    "print('Training Input Features:')\n",
    "print(list(train_X))\n",
    "\n",
    "#Extract Training Result\n",
    "train_Y = train_df[['duration']]\n",
    "print('Training Output Features:')\n",
    "print(list(train_Y))"
   ]
  },
  {
   "cell_type": "code",
   "execution_count": 288,
   "id": "71bbcdf4",
   "metadata": {},
   "outputs": [
    {
     "data": {
      "text/plain": [
       "(204330,)"
      ]
     },
     "execution_count": 288,
     "metadata": {},
     "output_type": "execute_result"
    }
   ],
   "source": [
    "#Encode categorical data (bus_stop_code, day (already encoded))\n",
    "from sklearn.preprocessing import LabelEncoder\n",
    "\n",
    "encoder = LabelEncoder()\n",
    "encoder.fit(train_X['bus_stop_code'])\n",
    "encoded_bus_stops = encoder.transform(train_X['bus_stop_code'])\n",
    "\n",
    "encoded_bus_stops.shape"
   ]
  },
  {
   "cell_type": "code",
   "execution_count": 289,
   "id": "343651b9",
   "metadata": {},
   "outputs": [
    {
     "data": {
      "text/plain": [
       "(204330,)"
      ]
     },
     "execution_count": 289,
     "metadata": {},
     "output_type": "execute_result"
    }
   ],
   "source": [
    "#Get numerical values as float from input data\n",
    "time_X = train_X['time'].values\n",
    "time_X = time_X.astype('float32')\n",
    "\n",
    "train_Y = train_Y.values\n",
    "train_Y = train_Y.astype('float32')\n",
    "\n",
    "time_X.shape"
   ]
  },
  {
   "cell_type": "code",
   "execution_count": 290,
   "id": "852be739",
   "metadata": {},
   "outputs": [],
   "source": [
    "#Scale numerical data (time and duration)\n",
    "from sklearn.preprocessing import RobustScaler\n",
    "\n",
    "#Scale data\n",
    "input_scalar, output_scalar = RobustScaler(), RobustScaler()\n",
    "input_scalar.fit(time_X.reshape(-1, 1))\n",
    "time_X = input_scalar.transform(time_X.reshape(-1, 1))\n",
    "\n",
    "output_scalar.fit(train_Y)\n",
    "train_Y = output_scalar.transform(train_Y)"
   ]
  },
  {
   "cell_type": "code",
   "execution_count": 291,
   "id": "55b5f4e4",
   "metadata": {},
   "outputs": [
    {
     "data": {
      "text/plain": [
       "(204330, 1)"
      ]
     },
     "execution_count": 291,
     "metadata": {},
     "output_type": "execute_result"
    }
   ],
   "source": [
    "time_X.shape"
   ]
  },
  {
   "cell_type": "code",
   "execution_count": 292,
   "id": "916ff112",
   "metadata": {},
   "outputs": [
    {
     "data": {
      "text/plain": [
       "(204330, 3)"
      ]
     },
     "execution_count": 292,
     "metadata": {},
     "output_type": "execute_result"
    }
   ],
   "source": [
    "train_X = np.stack((encoded_bus_stops, train_X['day'].values, np.squeeze(time_X)), axis=1)\n",
    "\n",
    "train_X.shape"
   ]
  },
  {
   "cell_type": "code",
   "execution_count": 293,
   "id": "304b4a43",
   "metadata": {},
   "outputs": [
    {
     "data": {
      "text/plain": [
       "(204330, 1)"
      ]
     },
     "execution_count": 293,
     "metadata": {},
     "output_type": "execute_result"
    }
   ],
   "source": [
    "train_Y.shape"
   ]
  },
  {
   "cell_type": "code",
   "execution_count": 294,
   "id": "ed6a1648",
   "metadata": {},
   "outputs": [],
   "source": [
    "from sklearn.model_selection import train_test_split\n",
    "\n",
    "train_X, test_X, train_Y, test_Y = train_test_split(train_X, train_Y, test_size=0.2, shuffle=True, random_state=88)\n",
    "\n",
    "#get number of columns in training data\n",
    "n_cols = train_X.shape[1]"
   ]
  },
  {
   "cell_type": "code",
   "execution_count": 295,
   "id": "9bf39a69",
   "metadata": {},
   "outputs": [
    {
     "data": {
      "text/plain": [
       "3"
      ]
     },
     "execution_count": 295,
     "metadata": {},
     "output_type": "execute_result"
    }
   ],
   "source": [
    "n_cols"
   ]
  },
  {
   "cell_type": "code",
   "execution_count": 309,
   "id": "c55c195d",
   "metadata": {},
   "outputs": [],
   "source": [
    "import tensorflow as tf\n",
    "from keras.models import Sequential, load_model\n",
    "from keras.layers import Dense\n",
    "\n",
    "num_layers = 10\n",
    "num_neurons = 20\n",
    "\n",
    "def create_model(num_layers, num_neurons, n_cols):\n",
    "    model = Sequential()\n",
    "\n",
    "    #Input layer\n",
    "    model.add(Dense(num_neurons, activation='relu', input_shape=(n_cols,)))\n",
    "    \n",
    "    #Add hidden layers\n",
    "    for i in range(0, num_layers):\n",
    "        model.add(Dense(num_neurons, activation = 'relu'))\n",
    "    \n",
    "    #Add output layer\n",
    "    model.add(Dense(1))\n",
    "\n",
    "    return model"
   ]
  },
  {
   "cell_type": "code",
   "execution_count": 310,
   "id": "b8212b88",
   "metadata": {},
   "outputs": [
    {
     "name": "stdout",
     "output_type": "stream",
     "text": [
      "Model: \"sequential_11\"\n",
      "_________________________________________________________________\n",
      "Layer (type)                 Output Shape              Param #   \n",
      "=================================================================\n",
      "dense_51 (Dense)             (None, 20)                80        \n",
      "_________________________________________________________________\n",
      "dense_52 (Dense)             (None, 20)                420       \n",
      "_________________________________________________________________\n",
      "dense_53 (Dense)             (None, 20)                420       \n",
      "_________________________________________________________________\n",
      "dense_54 (Dense)             (None, 20)                420       \n",
      "_________________________________________________________________\n",
      "dense_55 (Dense)             (None, 20)                420       \n",
      "_________________________________________________________________\n",
      "dense_56 (Dense)             (None, 20)                420       \n",
      "_________________________________________________________________\n",
      "dense_57 (Dense)             (None, 20)                420       \n",
      "_________________________________________________________________\n",
      "dense_58 (Dense)             (None, 20)                420       \n",
      "_________________________________________________________________\n",
      "dense_59 (Dense)             (None, 20)                420       \n",
      "_________________________________________________________________\n",
      "dense_60 (Dense)             (None, 20)                420       \n",
      "_________________________________________________________________\n",
      "dense_61 (Dense)             (None, 20)                420       \n",
      "_________________________________________________________________\n",
      "dense_62 (Dense)             (None, 1)                 21        \n",
      "=================================================================\n",
      "Total params: 4,301\n",
      "Trainable params: 4,301\n",
      "Non-trainable params: 0\n",
      "_________________________________________________________________\n"
     ]
    }
   ],
   "source": [
    "#Create and conpile model with Adam optimizer, L2/MSE for loss function\n",
    "model = create_model(num_layers, num_neurons, n_cols)\n",
    "model.compile(optimizer='adam', loss='mean_squared_error', metrics = ['mae'])\n",
    "model.summary()"
   ]
  },
  {
   "cell_type": "code",
   "execution_count": 311,
   "id": "0594b8b7",
   "metadata": {},
   "outputs": [
    {
     "name": "stdout",
     "output_type": "stream",
     "text": [
      "Train on 163464 samples, validate on 40866 samples\n",
      "Epoch 1/50\n",
      "163464/163464 [==============================] - 31s 192us/step - loss: 0.6503 - mae: 0.4813 - val_loss: 0.5818 - val_mae: 0.4474\n",
      "Epoch 2/50\n",
      "163464/163464 [==============================] - 30s 186us/step - loss: 0.5652 - mae: 0.4216 - val_loss: 0.5580 - val_mae: 0.4265\n",
      "Epoch 3/50\n",
      "163464/163464 [==============================] - 30s 185us/step - loss: 0.5555 - mae: 0.4067 - val_loss: 0.5345 - val_mae: 0.3864\n",
      "Epoch 4/50\n",
      "163464/163464 [==============================] - 30s 183us/step - loss: 0.4948 - mae: 0.3632 - val_loss: 0.4516 - val_mae: 0.3321\n",
      "Epoch 5/50\n",
      "163464/163464 [==============================] - 30s 183us/step - loss: 0.4780 - mae: 0.3601 - val_loss: 0.5419 - val_mae: 0.3726\n",
      "Epoch 6/50\n",
      "163464/163464 [==============================] - 30s 182us/step - loss: 0.4790 - mae: 0.3592 - val_loss: 0.4509 - val_mae: 0.3249\n",
      "Epoch 7/50\n",
      "163464/163464 [==============================] - 31s 188us/step - loss: 0.5199 - mae: 0.3679 - val_loss: 0.5193 - val_mae: 0.3414\n",
      "Epoch 8/50\n",
      "163464/163464 [==============================] - 31s 189us/step - loss: 0.5287 - mae: 0.3726 - val_loss: 0.4783 - val_mae: 0.3605\n",
      "Epoch 9/50\n",
      "163464/163464 [==============================] - 31s 191us/step - loss: 0.4657 - mae: 0.3381 - val_loss: 0.6132 - val_mae: 0.4406\n",
      "Epoch 10/50\n",
      "163464/163464 [==============================] - 31s 189us/step - loss: 0.4898 - mae: 0.3354 - val_loss: 0.4961 - val_mae: 0.2987\n",
      "Epoch 11/50\n",
      "163464/163464 [==============================] - 31s 193us/step - loss: 0.4427 - mae: 0.3243 - val_loss: 0.3715 - val_mae: 0.2973\n",
      "Epoch 12/50\n",
      "163464/163464 [==============================] - 32s 196us/step - loss: 0.4893 - mae: 0.3590 - val_loss: 0.4574 - val_mae: 0.3438\n",
      "Epoch 13/50\n",
      "163464/163464 [==============================] - 31s 192us/step - loss: 0.5083 - mae: 0.3584 - val_loss: 0.6495 - val_mae: 0.4638\n",
      "Epoch 14/50\n",
      "163464/163464 [==============================] - 31s 191us/step - loss: 0.4955 - mae: 0.3525 - val_loss: 0.4073 - val_mae: 0.3257\n",
      "Epoch 15/50\n",
      "163464/163464 [==============================] - 32s 195us/step - loss: 0.4025 - mae: 0.3251 - val_loss: 0.2720 - val_mae: 0.2751\n",
      "Epoch 16/50\n",
      "163464/163464 [==============================] - 33s 203us/step - loss: 0.4482 - mae: 0.3445 - val_loss: 0.4567 - val_mae: 0.3752\n",
      "Epoch 17/50\n",
      "163464/163464 [==============================] - 32s 194us/step - loss: 0.4005 - mae: 0.3223 - val_loss: 0.5672 - val_mae: 0.3511\n",
      "Epoch 18/50\n",
      "163464/163464 [==============================] - 32s 194us/step - loss: 0.3927 - mae: 0.3197 - val_loss: 0.5692 - val_mae: 0.3428\n",
      "Epoch 19/50\n",
      "163464/163464 [==============================] - 32s 194us/step - loss: 0.4463 - mae: 0.3418 - val_loss: 0.6703 - val_mae: 0.4331\n",
      "Epoch 20/50\n",
      "163464/163464 [==============================] - 32s 194us/step - loss: 0.4917 - mae: 0.3226 - val_loss: 0.4967 - val_mae: 0.3013\n",
      "Epoch 21/50\n",
      "163464/163464 [==============================] - 31s 192us/step - loss: 0.4421 - mae: 0.3063 - val_loss: 0.5457 - val_mae: 0.3711\n",
      "Epoch 22/50\n",
      "163464/163464 [==============================] - 35s 211us/step - loss: 0.4844 - mae: 0.3182 - val_loss: 0.5101 - val_mae: 0.3243\n",
      "Epoch 23/50\n",
      "163464/163464 [==============================] - 30s 184us/step - loss: 0.4564 - mae: 0.3094 - val_loss: 0.5093 - val_mae: 0.3433\n",
      "Epoch 24/50\n",
      "163464/163464 [==============================] - 29s 180us/step - loss: 0.4441 - mae: 0.3222 - val_loss: 0.6831 - val_mae: 0.4971\n",
      "Epoch 25/50\n",
      "163464/163464 [==============================] - 30s 182us/step - loss: 0.4615 - mae: 0.3106 - val_loss: 0.4705 - val_mae: 0.2914\n",
      "Epoch 26/50\n",
      "163464/163464 [==============================] - 29s 179us/step - loss: 0.4325 - mae: 0.3069 - val_loss: 0.3683 - val_mae: 0.2923\n",
      "Epoch 27/50\n",
      "163464/163464 [==============================] - 29s 178us/step - loss: 0.4352 - mae: 0.2982 - val_loss: 0.4738 - val_mae: 0.2774\n",
      "Epoch 28/50\n",
      "163464/163464 [==============================] - 29s 178us/step - loss: 0.4153 - mae: 0.3057 - val_loss: 0.4952 - val_mae: 0.3777\n",
      "Epoch 29/50\n",
      "163464/163464 [==============================] - 30s 185us/step - loss: 0.4482 - mae: 0.3250 - val_loss: 0.4856 - val_mae: 0.3358\n",
      "Epoch 30/50\n",
      "163464/163464 [==============================] - 30s 183us/step - loss: 0.4510 - mae: 0.3223 - val_loss: 0.4630 - val_mae: 0.2907\n",
      "Epoch 31/50\n",
      "163464/163464 [==============================] - 30s 182us/step - loss: 0.4306 - mae: 0.3265 - val_loss: 0.5465 - val_mae: 0.3858\n",
      "Epoch 32/50\n",
      "163464/163464 [==============================] - 31s 192us/step - loss: 0.4448 - mae: 0.3018 - val_loss: 0.4852 - val_mae: 0.2971\n",
      "Epoch 33/50\n",
      "163464/163464 [==============================] - 30s 182us/step - loss: 0.4516 - mae: 0.2945 - val_loss: 0.4643 - val_mae: 0.2950\n",
      "Epoch 34/50\n",
      "163464/163464 [==============================] - 30s 181us/step - loss: 0.4441 - mae: 0.2924 - val_loss: 0.4526 - val_mae: 0.2893\n",
      "Epoch 35/50\n",
      "163464/163464 [==============================] - 30s 181us/step - loss: 0.4337 - mae: 0.2852 - val_loss: 0.4259 - val_mae: 0.2699\n",
      "Epoch 36/50\n",
      "163464/163464 [==============================] - 29s 179us/step - loss: 0.4193 - mae: 0.2786 - val_loss: 0.4164 - val_mae: 0.2715\n",
      "Epoch 37/50\n",
      "163464/163464 [==============================] - 29s 180us/step - loss: 0.4082 - mae: 0.2797 - val_loss: 0.3826 - val_mae: 0.2564\n",
      "Epoch 38/50\n",
      "163464/163464 [==============================] - 31s 188us/step - loss: 0.3900 - mae: 0.2813 - val_loss: 0.3589 - val_mae: 0.2662\n",
      "Epoch 39/50\n",
      "163464/163464 [==============================] - 29s 179us/step - loss: 0.3736 - mae: 0.2968 - val_loss: 0.3511 - val_mae: 0.2990\n",
      "Epoch 40/50\n",
      "163464/163464 [==============================] - 29s 179us/step - loss: 0.3416 - mae: 0.2853 - val_loss: 0.3631 - val_mae: 0.2423\n",
      "Epoch 41/50\n",
      "163464/163464 [==============================] - 29s 177us/step - loss: 0.3886 - mae: 0.3042 - val_loss: 0.3990 - val_mae: 0.2590\n",
      "Epoch 42/50\n",
      "163464/163464 [==============================] - 29s 178us/step - loss: 0.4601 - mae: 0.3031 - val_loss: 0.5501 - val_mae: 0.3604\n",
      "Epoch 43/50\n",
      "163464/163464 [==============================] - 29s 179us/step - loss: 0.4657 - mae: 0.3027 - val_loss: 0.3920 - val_mae: 0.2826\n",
      "Epoch 44/50\n",
      "163464/163464 [==============================] - 29s 178us/step - loss: 0.4734 - mae: 0.3175 - val_loss: 0.5253 - val_mae: 0.3747\n",
      "Epoch 45/50\n",
      "163464/163464 [==============================] - 30s 182us/step - loss: 0.4678 - mae: 0.3314 - val_loss: 0.4836 - val_mae: 0.3199\n",
      "Epoch 46/50\n",
      "163464/163464 [==============================] - 29s 177us/step - loss: 0.4537 - mae: 0.2963 - val_loss: 0.4526 - val_mae: 0.2774\n",
      "Epoch 47/50\n",
      "163464/163464 [==============================] - 28s 173us/step - loss: 0.4280 - mae: 0.2734 - val_loss: 0.4201 - val_mae: 0.2672\n",
      "Epoch 48/50\n",
      "163464/163464 [==============================] - 29s 178us/step - loss: 0.4029 - mae: 0.2768 - val_loss: 0.4472 - val_mae: 0.3011\n",
      "Epoch 49/50\n",
      "163464/163464 [==============================] - 29s 178us/step - loss: 0.3891 - mae: 0.3095 - val_loss: 0.4105 - val_mae: 0.2729\n",
      "Epoch 50/50\n",
      "163464/163464 [==============================] - 29s 175us/step - loss: 0.3833 - mae: 0.3140 - val_loss: 0.4151 - val_mae: 0.2736\n"
     ]
    },
    {
     "data": {
      "text/plain": [
       "<keras.callbacks.callbacks.History at 0x7f9b966120d0>"
      ]
     },
     "execution_count": 311,
     "metadata": {},
     "output_type": "execute_result"
    }
   ],
   "source": [
    "model.fit(train_X, train_Y, epochs=50, batch_size = 32, verbose = 1, validation_data=(test_X, test_Y))"
   ]
  },
  {
   "cell_type": "code",
   "execution_count": null,
   "id": "afea73b4",
   "metadata": {},
   "outputs": [],
   "source": [
    "model.evaluate(train_X, train_Y, verbose = 0)"
   ]
  },
  {
   "cell_type": "code",
   "execution_count": null,
   "id": "b98f0991",
   "metadata": {},
   "outputs": [],
   "source": [
    "model.evaluate(test_X, test_Y, verbose=0)"
   ]
  },
  {
   "cell_type": "code",
   "execution_count": null,
   "id": "b519db16",
   "metadata": {},
   "outputs": [],
   "source": []
  }
 ],
 "metadata": {
  "kernelspec": {
   "display_name": "Python 3 (ipykernel)",
   "language": "python",
   "name": "python3"
  },
  "language_info": {
   "codemirror_mode": {
    "name": "ipython",
    "version": 3
   },
   "file_extension": ".py",
   "mimetype": "text/x-python",
   "name": "python",
   "nbconvert_exporter": "python",
   "pygments_lexer": "ipython3",
   "version": "3.7.11"
  }
 },
 "nbformat": 4,
 "nbformat_minor": 5
}
