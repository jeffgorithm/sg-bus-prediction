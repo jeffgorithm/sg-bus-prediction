{
 "cells": [
  {
   "cell_type": "markdown",
   "id": "c2ff1b16",
   "metadata": {},
   "source": [
    "# Problem Statement\n",
    "\n",
    "I have written my own data retrieval python program that retrieves data from Land Transport Authority (LTA) DataMall Bus Arrival API (https://datamall.lta.gov.sg/). The program collects data from the API every minute for a specific bus route and appends the results into a CSV file.\n",
    "\n",
    "Given this dataset, can we capture the seasonality and patterns that is present and predict the travel duration between two stops accurately using Machine Learning (ML) algorithms?"
   ]
  },
  {
   "cell_type": "code",
   "execution_count": 71,
   "id": "e15559c1",
   "metadata": {},
   "outputs": [],
   "source": [
    "import pandas as pd\n",
    "\n",
    "csv_file_path = '../data-retriever/data/972-16102021.csv'\n",
    "\n",
    "#NEW API SCHEMA 2021\n",
    "#Origin, Destination, ETA, Lat, Long, Visit Number, Load, Feature, Type, Current Stop, Next Stop, Service, Current Time\n",
    "new_col =  ['origin', 'dest', 'eta', 'lat', 'long', 'visit_num', 'load', 'feature', 'type', 'current_stop', \\\n",
    "            'next_stop', 'service', 'current_time', 'eta2']\n",
    "\n",
    "df = pd.read_csv(csv_file_path, index_col=False, names = new_col)\n"
   ]
  },
  {
   "cell_type": "markdown",
   "id": "b5136c9a",
   "metadata": {},
   "source": [
    "# Let's take a brief look at our dataset! "
   ]
  },
  {
   "cell_type": "code",
   "execution_count": 72,
   "id": "995bb76b",
   "metadata": {},
   "outputs": [
    {
     "name": "stdout",
     "output_type": "stream",
     "text": [
      "<class 'pandas.core.frame.DataFrame'>\n",
      "RangeIndex: 70208 entries, 0 to 70207\n",
      "Data columns (total 14 columns):\n",
      " #   Column        Non-Null Count  Dtype  \n",
      "---  ------        --------------  -----  \n",
      " 0   origin        69988 non-null  float64\n",
      " 1   dest          69988 non-null  float64\n",
      " 2   eta           69988 non-null  object \n",
      " 3   lat           69988 non-null  float64\n",
      " 4   long          69988 non-null  float64\n",
      " 5   visit_num     69988 non-null  float64\n",
      " 6   load          69988 non-null  object \n",
      " 7   feature       69988 non-null  object \n",
      " 8   type          69988 non-null  object \n",
      " 9   current_stop  70208 non-null  int64  \n",
      " 10  next_stop     68872 non-null  float64\n",
      " 11  service       70208 non-null  int64  \n",
      " 12  current_time  70208 non-null  object \n",
      " 13  eta2          66784 non-null  object \n",
      "dtypes: float64(6), int64(2), object(6)\n",
      "memory usage: 7.5+ MB\n"
     ]
    }
   ],
   "source": [
    "df.info()"
   ]
  },
  {
   "cell_type": "markdown",
   "id": "1508ba30",
   "metadata": {},
   "source": [
    "# Handling NaN values in our dataset\n",
    "Oh? We have some NaN values in our next_stop column, let's dig deep to find out why!"
   ]
  },
  {
   "cell_type": "code",
   "execution_count": 73,
   "id": "cc52f16a",
   "metadata": {},
   "outputs": [
    {
     "data": {
      "text/html": [
       "<div>\n",
       "<style scoped>\n",
       "    .dataframe tbody tr th:only-of-type {\n",
       "        vertical-align: middle;\n",
       "    }\n",
       "\n",
       "    .dataframe tbody tr th {\n",
       "        vertical-align: top;\n",
       "    }\n",
       "\n",
       "    .dataframe thead th {\n",
       "        text-align: right;\n",
       "    }\n",
       "</style>\n",
       "<table border=\"1\" class=\"dataframe\">\n",
       "  <thead>\n",
       "    <tr style=\"text-align: right;\">\n",
       "      <th></th>\n",
       "      <th>origin</th>\n",
       "      <th>dest</th>\n",
       "      <th>eta</th>\n",
       "      <th>lat</th>\n",
       "      <th>long</th>\n",
       "      <th>visit_num</th>\n",
       "      <th>load</th>\n",
       "      <th>feature</th>\n",
       "      <th>type</th>\n",
       "      <th>current_stop</th>\n",
       "      <th>next_stop</th>\n",
       "      <th>service</th>\n",
       "      <th>current_time</th>\n",
       "      <th>eta2</th>\n",
       "    </tr>\n",
       "  </thead>\n",
       "  <tbody>\n",
       "    <tr>\n",
       "      <th>51</th>\n",
       "      <td>45009.0</td>\n",
       "      <td>45009.0</td>\n",
       "      <td>2021-10-16T17:28:29+08:00</td>\n",
       "      <td>1.381010</td>\n",
       "      <td>103.763481</td>\n",
       "      <td>1.0</td>\n",
       "      <td>SEA</td>\n",
       "      <td>WAB</td>\n",
       "      <td>DD</td>\n",
       "      <td>44639</td>\n",
       "      <td>NaN</td>\n",
       "      <td>972</td>\n",
       "      <td>2021-10-16 17:29:30.351876+08:00</td>\n",
       "      <td>2021-10-16T17:45:16+08:00</td>\n",
       "    </tr>\n",
       "    <tr>\n",
       "      <th>103</th>\n",
       "      <td>45009.0</td>\n",
       "      <td>45009.0</td>\n",
       "      <td>2021-10-16T17:45:14+08:00</td>\n",
       "      <td>1.384054</td>\n",
       "      <td>103.770100</td>\n",
       "      <td>1.0</td>\n",
       "      <td>SEA</td>\n",
       "      <td>WAB</td>\n",
       "      <td>DD</td>\n",
       "      <td>44639</td>\n",
       "      <td>NaN</td>\n",
       "      <td>972</td>\n",
       "      <td>2021-10-16 17:30:33.522516+08:00</td>\n",
       "      <td>2021-10-16T17:52:29+08:00</td>\n",
       "    </tr>\n",
       "    <tr>\n",
       "      <th>155</th>\n",
       "      <td>45009.0</td>\n",
       "      <td>45009.0</td>\n",
       "      <td>2021-10-16T17:44:50+08:00</td>\n",
       "      <td>1.384283</td>\n",
       "      <td>103.770362</td>\n",
       "      <td>1.0</td>\n",
       "      <td>SEA</td>\n",
       "      <td>WAB</td>\n",
       "      <td>DD</td>\n",
       "      <td>44639</td>\n",
       "      <td>NaN</td>\n",
       "      <td>972</td>\n",
       "      <td>2021-10-16 17:31:36.415052+08:00</td>\n",
       "      <td>2021-10-16T17:52:22+08:00</td>\n",
       "    </tr>\n",
       "    <tr>\n",
       "      <th>207</th>\n",
       "      <td>45009.0</td>\n",
       "      <td>45009.0</td>\n",
       "      <td>2021-10-16T17:44:59+08:00</td>\n",
       "      <td>1.384283</td>\n",
       "      <td>103.770362</td>\n",
       "      <td>1.0</td>\n",
       "      <td>SEA</td>\n",
       "      <td>WAB</td>\n",
       "      <td>DD</td>\n",
       "      <td>44639</td>\n",
       "      <td>NaN</td>\n",
       "      <td>972</td>\n",
       "      <td>2021-10-16 17:32:39.650525+08:00</td>\n",
       "      <td>2021-10-16T17:52:20+08:00</td>\n",
       "    </tr>\n",
       "    <tr>\n",
       "      <th>259</th>\n",
       "      <td>45009.0</td>\n",
       "      <td>45009.0</td>\n",
       "      <td>2021-10-16T17:44:42+08:00</td>\n",
       "      <td>1.388874</td>\n",
       "      <td>103.770270</td>\n",
       "      <td>1.0</td>\n",
       "      <td>SEA</td>\n",
       "      <td>WAB</td>\n",
       "      <td>DD</td>\n",
       "      <td>44639</td>\n",
       "      <td>NaN</td>\n",
       "      <td>972</td>\n",
       "      <td>2021-10-16 17:33:42.548846+08:00</td>\n",
       "      <td>2021-10-16T17:52:10+08:00</td>\n",
       "    </tr>\n",
       "    <tr>\n",
       "      <th>...</th>\n",
       "      <td>...</td>\n",
       "      <td>...</td>\n",
       "      <td>...</td>\n",
       "      <td>...</td>\n",
       "      <td>...</td>\n",
       "      <td>...</td>\n",
       "      <td>...</td>\n",
       "      <td>...</td>\n",
       "      <td>...</td>\n",
       "      <td>...</td>\n",
       "      <td>...</td>\n",
       "      <td>...</td>\n",
       "      <td>...</td>\n",
       "      <td>...</td>\n",
       "    </tr>\n",
       "    <tr>\n",
       "      <th>69999</th>\n",
       "      <td>45009.0</td>\n",
       "      <td>45009.0</td>\n",
       "      <td>2021-10-17T12:52:41+08:00</td>\n",
       "      <td>1.382004</td>\n",
       "      <td>103.763018</td>\n",
       "      <td>1.0</td>\n",
       "      <td>SEA</td>\n",
       "      <td>WAB</td>\n",
       "      <td>DD</td>\n",
       "      <td>44639</td>\n",
       "      <td>NaN</td>\n",
       "      <td>972</td>\n",
       "      <td>2021-10-17 12:53:07.074234+08:00</td>\n",
       "      <td>2021-10-17T13:05:09+08:00</td>\n",
       "    </tr>\n",
       "    <tr>\n",
       "      <th>70051</th>\n",
       "      <td>45009.0</td>\n",
       "      <td>45009.0</td>\n",
       "      <td>2021-10-17T12:52:41+08:00</td>\n",
       "      <td>1.382004</td>\n",
       "      <td>103.763018</td>\n",
       "      <td>1.0</td>\n",
       "      <td>SEA</td>\n",
       "      <td>WAB</td>\n",
       "      <td>DD</td>\n",
       "      <td>44639</td>\n",
       "      <td>NaN</td>\n",
       "      <td>972</td>\n",
       "      <td>2021-10-17 12:53:07.073783+08:00</td>\n",
       "      <td>2021-10-17T13:05:09+08:00</td>\n",
       "    </tr>\n",
       "    <tr>\n",
       "      <th>70103</th>\n",
       "      <td>45009.0</td>\n",
       "      <td>45009.0</td>\n",
       "      <td>2021-10-17T12:52:41+08:00</td>\n",
       "      <td>1.382004</td>\n",
       "      <td>103.763018</td>\n",
       "      <td>1.0</td>\n",
       "      <td>SEA</td>\n",
       "      <td>WAB</td>\n",
       "      <td>DD</td>\n",
       "      <td>44639</td>\n",
       "      <td>NaN</td>\n",
       "      <td>972</td>\n",
       "      <td>2021-10-17 12:54:04.834979+08:00</td>\n",
       "      <td>2021-10-17T13:05:09+08:00</td>\n",
       "    </tr>\n",
       "    <tr>\n",
       "      <th>70155</th>\n",
       "      <td>45009.0</td>\n",
       "      <td>45009.0</td>\n",
       "      <td>2021-10-17T12:52:46+08:00</td>\n",
       "      <td>1.381042</td>\n",
       "      <td>103.763421</td>\n",
       "      <td>1.0</td>\n",
       "      <td>SEA</td>\n",
       "      <td>WAB</td>\n",
       "      <td>DD</td>\n",
       "      <td>44639</td>\n",
       "      <td>NaN</td>\n",
       "      <td>972</td>\n",
       "      <td>2021-10-17 12:54:09.155655+08:00</td>\n",
       "      <td>2021-10-17T13:05:02+08:00</td>\n",
       "    </tr>\n",
       "    <tr>\n",
       "      <th>70207</th>\n",
       "      <td>45009.0</td>\n",
       "      <td>45009.0</td>\n",
       "      <td>2021-10-17T12:52:46+08:00</td>\n",
       "      <td>1.381042</td>\n",
       "      <td>103.763421</td>\n",
       "      <td>1.0</td>\n",
       "      <td>SEA</td>\n",
       "      <td>WAB</td>\n",
       "      <td>DD</td>\n",
       "      <td>44639</td>\n",
       "      <td>NaN</td>\n",
       "      <td>972</td>\n",
       "      <td>2021-10-17 12:54:09.159674+08:00</td>\n",
       "      <td>2021-10-17T13:05:02+08:00</td>\n",
       "    </tr>\n",
       "  </tbody>\n",
       "</table>\n",
       "<p>1336 rows × 14 columns</p>\n",
       "</div>"
      ],
      "text/plain": [
       "        origin     dest                        eta       lat        long  \\\n",
       "51     45009.0  45009.0  2021-10-16T17:28:29+08:00  1.381010  103.763481   \n",
       "103    45009.0  45009.0  2021-10-16T17:45:14+08:00  1.384054  103.770100   \n",
       "155    45009.0  45009.0  2021-10-16T17:44:50+08:00  1.384283  103.770362   \n",
       "207    45009.0  45009.0  2021-10-16T17:44:59+08:00  1.384283  103.770362   \n",
       "259    45009.0  45009.0  2021-10-16T17:44:42+08:00  1.388874  103.770270   \n",
       "...        ...      ...                        ...       ...         ...   \n",
       "69999  45009.0  45009.0  2021-10-17T12:52:41+08:00  1.382004  103.763018   \n",
       "70051  45009.0  45009.0  2021-10-17T12:52:41+08:00  1.382004  103.763018   \n",
       "70103  45009.0  45009.0  2021-10-17T12:52:41+08:00  1.382004  103.763018   \n",
       "70155  45009.0  45009.0  2021-10-17T12:52:46+08:00  1.381042  103.763421   \n",
       "70207  45009.0  45009.0  2021-10-17T12:52:46+08:00  1.381042  103.763421   \n",
       "\n",
       "       visit_num load feature type  current_stop  next_stop  service  \\\n",
       "51           1.0  SEA     WAB   DD         44639        NaN      972   \n",
       "103          1.0  SEA     WAB   DD         44639        NaN      972   \n",
       "155          1.0  SEA     WAB   DD         44639        NaN      972   \n",
       "207          1.0  SEA     WAB   DD         44639        NaN      972   \n",
       "259          1.0  SEA     WAB   DD         44639        NaN      972   \n",
       "...          ...  ...     ...  ...           ...        ...      ...   \n",
       "69999        1.0  SEA     WAB   DD         44639        NaN      972   \n",
       "70051        1.0  SEA     WAB   DD         44639        NaN      972   \n",
       "70103        1.0  SEA     WAB   DD         44639        NaN      972   \n",
       "70155        1.0  SEA     WAB   DD         44639        NaN      972   \n",
       "70207        1.0  SEA     WAB   DD         44639        NaN      972   \n",
       "\n",
       "                           current_time                       eta2  \n",
       "51     2021-10-16 17:29:30.351876+08:00  2021-10-16T17:45:16+08:00  \n",
       "103    2021-10-16 17:30:33.522516+08:00  2021-10-16T17:52:29+08:00  \n",
       "155    2021-10-16 17:31:36.415052+08:00  2021-10-16T17:52:22+08:00  \n",
       "207    2021-10-16 17:32:39.650525+08:00  2021-10-16T17:52:20+08:00  \n",
       "259    2021-10-16 17:33:42.548846+08:00  2021-10-16T17:52:10+08:00  \n",
       "...                                 ...                        ...  \n",
       "69999  2021-10-17 12:53:07.074234+08:00  2021-10-17T13:05:09+08:00  \n",
       "70051  2021-10-17 12:53:07.073783+08:00  2021-10-17T13:05:09+08:00  \n",
       "70103  2021-10-17 12:54:04.834979+08:00  2021-10-17T13:05:09+08:00  \n",
       "70155  2021-10-17 12:54:09.155655+08:00  2021-10-17T13:05:02+08:00  \n",
       "70207  2021-10-17 12:54:09.159674+08:00  2021-10-17T13:05:02+08:00  \n",
       "\n",
       "[1336 rows x 14 columns]"
      ]
     },
     "execution_count": 73,
     "metadata": {},
     "output_type": "execute_result"
    }
   ],
   "source": [
    "df.loc[df['next_stop'].isnull()]"
   ]
  },
  {
   "cell_type": "markdown",
   "id": "de4dbdd5",
   "metadata": {},
   "source": [
    "After investigating further by taking a look at our route file, it turns out that this bus service is a loop service (starting and ending on the same stop). Hence, the API does not distinguish between the arrival time at the starting and ending stop, returning only the ETA of the starting stop. \n",
    "\n",
    "In short, it is safe to drop these rows!"
   ]
  },
  {
   "cell_type": "code",
   "execution_count": 74,
   "id": "4db1fd35",
   "metadata": {},
   "outputs": [],
   "source": [
    "df = df.dropna()\n",
    "df.reset_index(drop=True, inplace=True)"
   ]
  },
  {
   "cell_type": "markdown",
   "id": "65e21174",
   "metadata": {},
   "source": [
    "# Let's do some calculations and create new columns!"
   ]
  },
  {
   "cell_type": "markdown",
   "id": "65766b5d",
   "metadata": {},
   "source": [
    "## Extracting information from datetime fields\n",
    "\n",
    "We can extract some data from the datetime fields which can be used for analysis or feature engineering."
   ]
  },
  {
   "cell_type": "code",
   "execution_count": 75,
   "id": "a9e0e39a",
   "metadata": {},
   "outputs": [
    {
     "data": {
      "text/html": [
       "<div>\n",
       "<style scoped>\n",
       "    .dataframe tbody tr th:only-of-type {\n",
       "        vertical-align: middle;\n",
       "    }\n",
       "\n",
       "    .dataframe tbody tr th {\n",
       "        vertical-align: top;\n",
       "    }\n",
       "\n",
       "    .dataframe thead th {\n",
       "        text-align: right;\n",
       "    }\n",
       "</style>\n",
       "<table border=\"1\" class=\"dataframe\">\n",
       "  <thead>\n",
       "    <tr style=\"text-align: right;\">\n",
       "      <th></th>\n",
       "      <th>origin</th>\n",
       "      <th>dest</th>\n",
       "      <th>eta</th>\n",
       "      <th>lat</th>\n",
       "      <th>long</th>\n",
       "      <th>visit_num</th>\n",
       "      <th>load</th>\n",
       "      <th>feature</th>\n",
       "      <th>type</th>\n",
       "      <th>current_stop</th>\n",
       "      <th>next_stop</th>\n",
       "      <th>service</th>\n",
       "      <th>current_time</th>\n",
       "      <th>eta2</th>\n",
       "      <th>hour</th>\n",
       "      <th>day</th>\n",
       "    </tr>\n",
       "  </thead>\n",
       "  <tbody>\n",
       "    <tr>\n",
       "      <th>0</th>\n",
       "      <td>45009.0</td>\n",
       "      <td>45009.0</td>\n",
       "      <td>2021-10-16 17:32:41+08:00</td>\n",
       "      <td>0.0</td>\n",
       "      <td>0.0</td>\n",
       "      <td>1.0</td>\n",
       "      <td>SEA</td>\n",
       "      <td>WAB</td>\n",
       "      <td>DD</td>\n",
       "      <td>44791</td>\n",
       "      <td>44801.0</td>\n",
       "      <td>972</td>\n",
       "      <td>2021-10-16 17:29:27.636999+08:00</td>\n",
       "      <td>2021-10-16 17:47:39+08:00</td>\n",
       "      <td>17</td>\n",
       "      <td>5</td>\n",
       "    </tr>\n",
       "    <tr>\n",
       "      <th>1</th>\n",
       "      <td>45009.0</td>\n",
       "      <td>45009.0</td>\n",
       "      <td>2021-10-16 17:33:35+08:00</td>\n",
       "      <td>0.0</td>\n",
       "      <td>0.0</td>\n",
       "      <td>1.0</td>\n",
       "      <td>SEA</td>\n",
       "      <td>WAB</td>\n",
       "      <td>DD</td>\n",
       "      <td>44801</td>\n",
       "      <td>44861.0</td>\n",
       "      <td>972</td>\n",
       "      <td>2021-10-16 17:29:27.694664+08:00</td>\n",
       "      <td>2021-10-16 17:48:35+08:00</td>\n",
       "      <td>17</td>\n",
       "      <td>5</td>\n",
       "    </tr>\n",
       "    <tr>\n",
       "      <th>2</th>\n",
       "      <td>45009.0</td>\n",
       "      <td>45009.0</td>\n",
       "      <td>2021-10-16 17:34:27+08:00</td>\n",
       "      <td>0.0</td>\n",
       "      <td>0.0</td>\n",
       "      <td>1.0</td>\n",
       "      <td>SEA</td>\n",
       "      <td>WAB</td>\n",
       "      <td>DD</td>\n",
       "      <td>44861</td>\n",
       "      <td>44811.0</td>\n",
       "      <td>972</td>\n",
       "      <td>2021-10-16 17:29:27.730226+08:00</td>\n",
       "      <td>2021-10-16 17:49:27+08:00</td>\n",
       "      <td>17</td>\n",
       "      <td>5</td>\n",
       "    </tr>\n",
       "    <tr>\n",
       "      <th>3</th>\n",
       "      <td>45009.0</td>\n",
       "      <td>45009.0</td>\n",
       "      <td>2021-10-16 17:35:24+08:00</td>\n",
       "      <td>0.0</td>\n",
       "      <td>0.0</td>\n",
       "      <td>1.0</td>\n",
       "      <td>SEA</td>\n",
       "      <td>WAB</td>\n",
       "      <td>DD</td>\n",
       "      <td>44811</td>\n",
       "      <td>44821.0</td>\n",
       "      <td>972</td>\n",
       "      <td>2021-10-16 17:29:27.765854+08:00</td>\n",
       "      <td>2021-10-16 17:50:24+08:00</td>\n",
       "      <td>17</td>\n",
       "      <td>5</td>\n",
       "    </tr>\n",
       "    <tr>\n",
       "      <th>4</th>\n",
       "      <td>45009.0</td>\n",
       "      <td>45009.0</td>\n",
       "      <td>2021-10-16 17:37:10+08:00</td>\n",
       "      <td>0.0</td>\n",
       "      <td>0.0</td>\n",
       "      <td>1.0</td>\n",
       "      <td>SEA</td>\n",
       "      <td>WAB</td>\n",
       "      <td>DD</td>\n",
       "      <td>44821</td>\n",
       "      <td>44661.0</td>\n",
       "      <td>972</td>\n",
       "      <td>2021-10-16 17:29:27.808618+08:00</td>\n",
       "      <td>2021-10-16 17:52:10+08:00</td>\n",
       "      <td>17</td>\n",
       "      <td>5</td>\n",
       "    </tr>\n",
       "  </tbody>\n",
       "</table>\n",
       "</div>"
      ],
      "text/plain": [
       "    origin     dest                       eta  lat  long  visit_num load  \\\n",
       "0  45009.0  45009.0 2021-10-16 17:32:41+08:00  0.0   0.0        1.0  SEA   \n",
       "1  45009.0  45009.0 2021-10-16 17:33:35+08:00  0.0   0.0        1.0  SEA   \n",
       "2  45009.0  45009.0 2021-10-16 17:34:27+08:00  0.0   0.0        1.0  SEA   \n",
       "3  45009.0  45009.0 2021-10-16 17:35:24+08:00  0.0   0.0        1.0  SEA   \n",
       "4  45009.0  45009.0 2021-10-16 17:37:10+08:00  0.0   0.0        1.0  SEA   \n",
       "\n",
       "  feature type  current_stop  next_stop  service  \\\n",
       "0     WAB   DD         44791    44801.0      972   \n",
       "1     WAB   DD         44801    44861.0      972   \n",
       "2     WAB   DD         44861    44811.0      972   \n",
       "3     WAB   DD         44811    44821.0      972   \n",
       "4     WAB   DD         44821    44661.0      972   \n",
       "\n",
       "                      current_time                      eta2  hour  day  \n",
       "0 2021-10-16 17:29:27.636999+08:00 2021-10-16 17:47:39+08:00    17    5  \n",
       "1 2021-10-16 17:29:27.694664+08:00 2021-10-16 17:48:35+08:00    17    5  \n",
       "2 2021-10-16 17:29:27.730226+08:00 2021-10-16 17:49:27+08:00    17    5  \n",
       "3 2021-10-16 17:29:27.765854+08:00 2021-10-16 17:50:24+08:00    17    5  \n",
       "4 2021-10-16 17:29:27.808618+08:00 2021-10-16 17:52:10+08:00    17    5  "
      ]
     },
     "execution_count": 75,
     "metadata": {},
     "output_type": "execute_result"
    }
   ],
   "source": [
    "#Convert to eta column into a datetime field\n",
    "df['eta'] = pd.to_datetime(df['eta'])\n",
    "df['eta2'] = pd.to_datetime(df['eta2'])\n",
    "df['current_time'] = pd.to_datetime(df['current_time'])\n",
    "\n",
    "#Extract hour from current_time field\n",
    "df['hour'] = df['current_time'].dt.hour\n",
    "\n",
    "#Extract day of week from current_time field\n",
    "df['day'] = df['current_time'].dt.dayofweek\n",
    "\n",
    "df.head()"
   ]
  },
  {
   "cell_type": "code",
   "execution_count": 76,
   "id": "b4a15690",
   "metadata": {},
   "outputs": [
    {
     "data": {
      "text/html": [
       "<div>\n",
       "<style scoped>\n",
       "    .dataframe tbody tr th:only-of-type {\n",
       "        vertical-align: middle;\n",
       "    }\n",
       "\n",
       "    .dataframe tbody tr th {\n",
       "        vertical-align: top;\n",
       "    }\n",
       "\n",
       "    .dataframe thead th {\n",
       "        text-align: right;\n",
       "    }\n",
       "</style>\n",
       "<table border=\"1\" class=\"dataframe\">\n",
       "  <thead>\n",
       "    <tr style=\"text-align: right;\">\n",
       "      <th></th>\n",
       "      <th>origin</th>\n",
       "      <th>dest</th>\n",
       "      <th>eta</th>\n",
       "      <th>lat</th>\n",
       "      <th>long</th>\n",
       "      <th>visit_num</th>\n",
       "      <th>load</th>\n",
       "      <th>feature</th>\n",
       "      <th>type</th>\n",
       "      <th>current_stop</th>\n",
       "      <th>next_stop</th>\n",
       "      <th>service</th>\n",
       "      <th>current_time</th>\n",
       "      <th>eta2</th>\n",
       "      <th>hour</th>\n",
       "      <th>day</th>\n",
       "    </tr>\n",
       "  </thead>\n",
       "  <tbody>\n",
       "    <tr>\n",
       "      <th>0</th>\n",
       "      <td>45009.0</td>\n",
       "      <td>45009.0</td>\n",
       "      <td>2021-10-16 17:32:41+08:00</td>\n",
       "      <td>0.0</td>\n",
       "      <td>0.0</td>\n",
       "      <td>1.0</td>\n",
       "      <td>SEA</td>\n",
       "      <td>WAB</td>\n",
       "      <td>DD</td>\n",
       "      <td>44791</td>\n",
       "      <td>44801</td>\n",
       "      <td>972</td>\n",
       "      <td>2021-10-16 17:29:27.636999+08:00</td>\n",
       "      <td>2021-10-16 17:47:39+08:00</td>\n",
       "      <td>17</td>\n",
       "      <td>5</td>\n",
       "    </tr>\n",
       "    <tr>\n",
       "      <th>1</th>\n",
       "      <td>45009.0</td>\n",
       "      <td>45009.0</td>\n",
       "      <td>2021-10-16 17:33:35+08:00</td>\n",
       "      <td>0.0</td>\n",
       "      <td>0.0</td>\n",
       "      <td>1.0</td>\n",
       "      <td>SEA</td>\n",
       "      <td>WAB</td>\n",
       "      <td>DD</td>\n",
       "      <td>44801</td>\n",
       "      <td>44861</td>\n",
       "      <td>972</td>\n",
       "      <td>2021-10-16 17:29:27.694664+08:00</td>\n",
       "      <td>2021-10-16 17:48:35+08:00</td>\n",
       "      <td>17</td>\n",
       "      <td>5</td>\n",
       "    </tr>\n",
       "    <tr>\n",
       "      <th>2</th>\n",
       "      <td>45009.0</td>\n",
       "      <td>45009.0</td>\n",
       "      <td>2021-10-16 17:34:27+08:00</td>\n",
       "      <td>0.0</td>\n",
       "      <td>0.0</td>\n",
       "      <td>1.0</td>\n",
       "      <td>SEA</td>\n",
       "      <td>WAB</td>\n",
       "      <td>DD</td>\n",
       "      <td>44861</td>\n",
       "      <td>44811</td>\n",
       "      <td>972</td>\n",
       "      <td>2021-10-16 17:29:27.730226+08:00</td>\n",
       "      <td>2021-10-16 17:49:27+08:00</td>\n",
       "      <td>17</td>\n",
       "      <td>5</td>\n",
       "    </tr>\n",
       "    <tr>\n",
       "      <th>3</th>\n",
       "      <td>45009.0</td>\n",
       "      <td>45009.0</td>\n",
       "      <td>2021-10-16 17:35:24+08:00</td>\n",
       "      <td>0.0</td>\n",
       "      <td>0.0</td>\n",
       "      <td>1.0</td>\n",
       "      <td>SEA</td>\n",
       "      <td>WAB</td>\n",
       "      <td>DD</td>\n",
       "      <td>44811</td>\n",
       "      <td>44821</td>\n",
       "      <td>972</td>\n",
       "      <td>2021-10-16 17:29:27.765854+08:00</td>\n",
       "      <td>2021-10-16 17:50:24+08:00</td>\n",
       "      <td>17</td>\n",
       "      <td>5</td>\n",
       "    </tr>\n",
       "    <tr>\n",
       "      <th>4</th>\n",
       "      <td>45009.0</td>\n",
       "      <td>45009.0</td>\n",
       "      <td>2021-10-16 17:37:10+08:00</td>\n",
       "      <td>0.0</td>\n",
       "      <td>0.0</td>\n",
       "      <td>1.0</td>\n",
       "      <td>SEA</td>\n",
       "      <td>WAB</td>\n",
       "      <td>DD</td>\n",
       "      <td>44821</td>\n",
       "      <td>44661</td>\n",
       "      <td>972</td>\n",
       "      <td>2021-10-16 17:29:27.808618+08:00</td>\n",
       "      <td>2021-10-16 17:52:10+08:00</td>\n",
       "      <td>17</td>\n",
       "      <td>5</td>\n",
       "    </tr>\n",
       "  </tbody>\n",
       "</table>\n",
       "</div>"
      ],
      "text/plain": [
       "    origin     dest                       eta  lat  long  visit_num load  \\\n",
       "0  45009.0  45009.0 2021-10-16 17:32:41+08:00  0.0   0.0        1.0  SEA   \n",
       "1  45009.0  45009.0 2021-10-16 17:33:35+08:00  0.0   0.0        1.0  SEA   \n",
       "2  45009.0  45009.0 2021-10-16 17:34:27+08:00  0.0   0.0        1.0  SEA   \n",
       "3  45009.0  45009.0 2021-10-16 17:35:24+08:00  0.0   0.0        1.0  SEA   \n",
       "4  45009.0  45009.0 2021-10-16 17:37:10+08:00  0.0   0.0        1.0  SEA   \n",
       "\n",
       "  feature type  current_stop  next_stop  service  \\\n",
       "0     WAB   DD         44791      44801      972   \n",
       "1     WAB   DD         44801      44861      972   \n",
       "2     WAB   DD         44861      44811      972   \n",
       "3     WAB   DD         44811      44821      972   \n",
       "4     WAB   DD         44821      44661      972   \n",
       "\n",
       "                      current_time                      eta2  hour  day  \n",
       "0 2021-10-16 17:29:27.636999+08:00 2021-10-16 17:47:39+08:00    17    5  \n",
       "1 2021-10-16 17:29:27.694664+08:00 2021-10-16 17:48:35+08:00    17    5  \n",
       "2 2021-10-16 17:29:27.730226+08:00 2021-10-16 17:49:27+08:00    17    5  \n",
       "3 2021-10-16 17:29:27.765854+08:00 2021-10-16 17:50:24+08:00    17    5  \n",
       "4 2021-10-16 17:29:27.808618+08:00 2021-10-16 17:52:10+08:00    17    5  "
      ]
     },
     "execution_count": 76,
     "metadata": {},
     "output_type": "execute_result"
    }
   ],
   "source": [
    "#Convert numerical data columns to Integer\n",
    "df['current_stop'] = df['current_stop'].astype(int)\n",
    "df['next_stop'] = df['next_stop'].astype(int)\n",
    "\n",
    "df.head()"
   ]
  },
  {
   "cell_type": "markdown",
   "id": "f3b4f2db",
   "metadata": {},
   "source": [
    "# Calculating travel duration between two stops\n",
    "\n",
    "Since we have the estimated time of arrival (ETA) for two bus instances that was retrieved from the API, we can calculate the travel duration that it takes for the bus to travel from the previous stop to the current stop."
   ]
  },
  {
   "cell_type": "code",
   "execution_count": 77,
   "id": "a7e81dcd",
   "metadata": {},
   "outputs": [
    {
     "data": {
      "text/html": [
       "<div>\n",
       "<style scoped>\n",
       "    .dataframe tbody tr th:only-of-type {\n",
       "        vertical-align: middle;\n",
       "    }\n",
       "\n",
       "    .dataframe tbody tr th {\n",
       "        vertical-align: top;\n",
       "    }\n",
       "\n",
       "    .dataframe thead th {\n",
       "        text-align: right;\n",
       "    }\n",
       "</style>\n",
       "<table border=\"1\" class=\"dataframe\">\n",
       "  <thead>\n",
       "    <tr style=\"text-align: right;\">\n",
       "      <th></th>\n",
       "      <th>origin</th>\n",
       "      <th>dest</th>\n",
       "      <th>eta</th>\n",
       "      <th>lat</th>\n",
       "      <th>long</th>\n",
       "      <th>visit_num</th>\n",
       "      <th>load</th>\n",
       "      <th>feature</th>\n",
       "      <th>type</th>\n",
       "      <th>current_stop</th>\n",
       "      <th>next_stop</th>\n",
       "      <th>service</th>\n",
       "      <th>current_time</th>\n",
       "      <th>eta2</th>\n",
       "      <th>hour</th>\n",
       "      <th>day</th>\n",
       "      <th>duration</th>\n",
       "      <th>duration_seconds</th>\n",
       "    </tr>\n",
       "  </thead>\n",
       "  <tbody>\n",
       "    <tr>\n",
       "      <th>0</th>\n",
       "      <td>45009.0</td>\n",
       "      <td>45009.0</td>\n",
       "      <td>2021-10-16 17:32:41+08:00</td>\n",
       "      <td>0.0</td>\n",
       "      <td>0.0</td>\n",
       "      <td>1.0</td>\n",
       "      <td>SEA</td>\n",
       "      <td>WAB</td>\n",
       "      <td>DD</td>\n",
       "      <td>44791</td>\n",
       "      <td>44801</td>\n",
       "      <td>972</td>\n",
       "      <td>2021-10-16 17:29:27.636999+08:00</td>\n",
       "      <td>2021-10-16 17:47:39+08:00</td>\n",
       "      <td>17</td>\n",
       "      <td>5</td>\n",
       "      <td>0 days 00:14:58</td>\n",
       "      <td>898.0</td>\n",
       "    </tr>\n",
       "    <tr>\n",
       "      <th>1</th>\n",
       "      <td>45009.0</td>\n",
       "      <td>45009.0</td>\n",
       "      <td>2021-10-16 17:33:35+08:00</td>\n",
       "      <td>0.0</td>\n",
       "      <td>0.0</td>\n",
       "      <td>1.0</td>\n",
       "      <td>SEA</td>\n",
       "      <td>WAB</td>\n",
       "      <td>DD</td>\n",
       "      <td>44801</td>\n",
       "      <td>44861</td>\n",
       "      <td>972</td>\n",
       "      <td>2021-10-16 17:29:27.694664+08:00</td>\n",
       "      <td>2021-10-16 17:48:35+08:00</td>\n",
       "      <td>17</td>\n",
       "      <td>5</td>\n",
       "      <td>0 days 00:15:00</td>\n",
       "      <td>900.0</td>\n",
       "    </tr>\n",
       "    <tr>\n",
       "      <th>2</th>\n",
       "      <td>45009.0</td>\n",
       "      <td>45009.0</td>\n",
       "      <td>2021-10-16 17:34:27+08:00</td>\n",
       "      <td>0.0</td>\n",
       "      <td>0.0</td>\n",
       "      <td>1.0</td>\n",
       "      <td>SEA</td>\n",
       "      <td>WAB</td>\n",
       "      <td>DD</td>\n",
       "      <td>44861</td>\n",
       "      <td>44811</td>\n",
       "      <td>972</td>\n",
       "      <td>2021-10-16 17:29:27.730226+08:00</td>\n",
       "      <td>2021-10-16 17:49:27+08:00</td>\n",
       "      <td>17</td>\n",
       "      <td>5</td>\n",
       "      <td>0 days 00:15:00</td>\n",
       "      <td>900.0</td>\n",
       "    </tr>\n",
       "    <tr>\n",
       "      <th>3</th>\n",
       "      <td>45009.0</td>\n",
       "      <td>45009.0</td>\n",
       "      <td>2021-10-16 17:35:24+08:00</td>\n",
       "      <td>0.0</td>\n",
       "      <td>0.0</td>\n",
       "      <td>1.0</td>\n",
       "      <td>SEA</td>\n",
       "      <td>WAB</td>\n",
       "      <td>DD</td>\n",
       "      <td>44811</td>\n",
       "      <td>44821</td>\n",
       "      <td>972</td>\n",
       "      <td>2021-10-16 17:29:27.765854+08:00</td>\n",
       "      <td>2021-10-16 17:50:24+08:00</td>\n",
       "      <td>17</td>\n",
       "      <td>5</td>\n",
       "      <td>0 days 00:15:00</td>\n",
       "      <td>900.0</td>\n",
       "    </tr>\n",
       "    <tr>\n",
       "      <th>4</th>\n",
       "      <td>45009.0</td>\n",
       "      <td>45009.0</td>\n",
       "      <td>2021-10-16 17:37:10+08:00</td>\n",
       "      <td>0.0</td>\n",
       "      <td>0.0</td>\n",
       "      <td>1.0</td>\n",
       "      <td>SEA</td>\n",
       "      <td>WAB</td>\n",
       "      <td>DD</td>\n",
       "      <td>44821</td>\n",
       "      <td>44661</td>\n",
       "      <td>972</td>\n",
       "      <td>2021-10-16 17:29:27.808618+08:00</td>\n",
       "      <td>2021-10-16 17:52:10+08:00</td>\n",
       "      <td>17</td>\n",
       "      <td>5</td>\n",
       "      <td>0 days 00:15:00</td>\n",
       "      <td>900.0</td>\n",
       "    </tr>\n",
       "  </tbody>\n",
       "</table>\n",
       "</div>"
      ],
      "text/plain": [
       "    origin     dest                       eta  lat  long  visit_num load  \\\n",
       "0  45009.0  45009.0 2021-10-16 17:32:41+08:00  0.0   0.0        1.0  SEA   \n",
       "1  45009.0  45009.0 2021-10-16 17:33:35+08:00  0.0   0.0        1.0  SEA   \n",
       "2  45009.0  45009.0 2021-10-16 17:34:27+08:00  0.0   0.0        1.0  SEA   \n",
       "3  45009.0  45009.0 2021-10-16 17:35:24+08:00  0.0   0.0        1.0  SEA   \n",
       "4  45009.0  45009.0 2021-10-16 17:37:10+08:00  0.0   0.0        1.0  SEA   \n",
       "\n",
       "  feature type  current_stop  next_stop  service  \\\n",
       "0     WAB   DD         44791      44801      972   \n",
       "1     WAB   DD         44801      44861      972   \n",
       "2     WAB   DD         44861      44811      972   \n",
       "3     WAB   DD         44811      44821      972   \n",
       "4     WAB   DD         44821      44661      972   \n",
       "\n",
       "                      current_time                      eta2  hour  day  \\\n",
       "0 2021-10-16 17:29:27.636999+08:00 2021-10-16 17:47:39+08:00    17    5   \n",
       "1 2021-10-16 17:29:27.694664+08:00 2021-10-16 17:48:35+08:00    17    5   \n",
       "2 2021-10-16 17:29:27.730226+08:00 2021-10-16 17:49:27+08:00    17    5   \n",
       "3 2021-10-16 17:29:27.765854+08:00 2021-10-16 17:50:24+08:00    17    5   \n",
       "4 2021-10-16 17:29:27.808618+08:00 2021-10-16 17:52:10+08:00    17    5   \n",
       "\n",
       "         duration  duration_seconds  \n",
       "0 0 days 00:14:58             898.0  \n",
       "1 0 days 00:15:00             900.0  \n",
       "2 0 days 00:15:00             900.0  \n",
       "3 0 days 00:15:00             900.0  \n",
       "4 0 days 00:15:00             900.0  "
      ]
     },
     "execution_count": 77,
     "metadata": {},
     "output_type": "execute_result"
    }
   ],
   "source": [
    "#Calculate duration column and get results in seconds\n",
    "df['duration'] = df['eta2'] - df['eta']\n",
    "df['duration_seconds'] = df['duration'].dt.total_seconds()\n",
    "\n",
    "df.head()"
   ]
  },
  {
   "cell_type": "markdown",
   "id": "e888aec5",
   "metadata": {},
   "source": [
    "# Unique bus stops"
   ]
  },
  {
   "cell_type": "code",
   "execution_count": 78,
   "id": "c4cc4cde",
   "metadata": {},
   "outputs": [
    {
     "data": {
      "text/plain": [
       "array([44791, 44801, 44861, 44811, 44821, 44661, 44611, 44701, 44691,\n",
       "       44771, 44349, 44339, 44329, 44261, 40239, 40229, 40219, 40209,\n",
       "       40199,  9219,  9047,  9037,  8138,  8057,  8041,  8031,  8111,\n",
       "        8121,  9011,  9023,  9213, 40191, 40201, 40211, 40221, 40231,\n",
       "       44269, 44321, 44331, 44341, 44779, 44699, 44709, 44619, 44669,\n",
       "       44829, 44819, 44869, 44809, 44799, 44649])"
      ]
     },
     "execution_count": 78,
     "metadata": {},
     "output_type": "execute_result"
    }
   ],
   "source": [
    "bus_stops = df['current_stop'].unique()\n",
    "bus_stops"
   ]
  },
  {
   "cell_type": "code",
   "execution_count": 84,
   "id": "140152af",
   "metadata": {},
   "outputs": [
    {
     "data": {
      "text/plain": [
       "<AxesSubplot:xlabel='current_time', ylabel='duration_seconds'>"
      ]
     },
     "execution_count": 84,
     "metadata": {},
     "output_type": "execute_result"
    },
    {
     "data": {
      "image/png": "[encoded data removed]",
      "text/plain": [
       "<Figure size 1152x576 with 1 Axes>"
      ]
     },
     "metadata": {
      "needs_background": "light"
     },
     "output_type": "display_data"
    }
   ],
   "source": [
    "target_stop = df.loc[df['current_stop'] == 44269]\n",
    "\n",
    "target_stop.plot.scatter(x='current_time', y='duration_seconds',figsize=(16,8))"
   ]
  },
  {
   "cell_type": "markdown",
   "id": "8ac780c8",
   "metadata": {},
   "source": [
    "## Scatter plot of Hour of the day against Travel Duration (seconds)"
   ]
  },
  {
   "cell_type": "code",
   "execution_count": 85,
   "id": "b7103203",
   "metadata": {},
   "outputs": [
    {
     "data": {
      "text/plain": [
       "<AxesSubplot:xlabel='hour', ylabel='duration_seconds'>"
      ]
     },
     "execution_count": 85,
     "metadata": {},
     "output_type": "execute_result"
    },
    {
     "data": {
      "image/png": "[encoded data removed]",
      "text/plain": [
       "<Figure size 1152x576 with 1 Axes>"
      ]
     },
     "metadata": {
      "needs_background": "light"
     },
     "output_type": "display_data"
    }
   ],
   "source": [
    "target_stop.plot.scatter(x='hour', y='duration_seconds',figsize=(16,8))"
   ]
  },
  {
   "cell_type": "markdown",
   "id": "5dd9c9bf",
   "metadata": {},
   "source": [
    "## Scatter plot of Day of week (e.g. Mon, Tues, Wed) against Travel Duration (seconds)"
   ]
  },
  {
   "cell_type": "code",
   "execution_count": 100,
   "id": "bf950d9c",
   "metadata": {},
   "outputs": [
    {
     "data": {
      "text/plain": [
       "<AxesSubplot:xlabel='day', ylabel='duration_seconds'>"
      ]
     },
     "execution_count": 100,
     "metadata": {},
     "output_type": "execute_result"
    },
    {
     "data": {
      "image/png": "[encoded data removed]",
      "text/plain": [
       "<Figure size 1152x576 with 1 Axes>"
      ]
     },
     "metadata": {
      "needs_background": "light"
     },
     "output_type": "display_data"
    }
   ],
   "source": [
    "target_stop.plot.scatter(x='day', y='duration_seconds',figsize=(16,8))"
   ]
  },
  {
   "cell_type": "code",
   "execution_count": 101,
   "id": "3bc33de8",
   "metadata": {},
   "outputs": [
    {
     "data": {
      "text/plain": [
       "array(['SEA', 'SDA'], dtype=object)"
      ]
     },
     "execution_count": 101,
     "metadata": {},
     "output_type": "execute_result"
    }
   ],
   "source": [
    "df['load'].unique()"
   ]
  },
  {
   "cell_type": "markdown",
   "id": "d074885d",
   "metadata": {},
   "source": [
    "## Plot of Bus Load (Seating) vs Travel Duration"
   ]
  },
  {
   "cell_type": "code",
   "execution_count": 102,
   "id": "2a829634",
   "metadata": {},
   "outputs": [
    {
     "data": {
      "text/plain": [
       "<AxesSubplot:>"
      ]
     },
     "execution_count": 102,
     "metadata": {},
     "output_type": "execute_result"
    },
    {
     "data": {
      "image/png": "[encoded data removed]",
      "text/plain": [
       "<Figure size 1152x576 with 1 Axes>"
      ]
     },
     "metadata": {
      "needs_background": "light"
     },
     "output_type": "display_data"
    }
   ],
   "source": [
    "target_stop.loc[target_stop['load'] == 'SEA'].boxplot(column='duration_seconds',figsize=(16,8))"
   ]
  },
  {
   "cell_type": "markdown",
   "id": "c6c05c9a",
   "metadata": {},
   "source": [
    "## Plot of Bus Load (Standing) vs Travel Duration"
   ]
  },
  {
   "cell_type": "code",
   "execution_count": 103,
   "id": "dd7b07dc",
   "metadata": {},
   "outputs": [
    {
     "data": {
      "text/plain": [
       "<AxesSubplot:>"
      ]
     },
     "execution_count": 103,
     "metadata": {},
     "output_type": "execute_result"
    },
    {
     "data": {
      "image/png": "[encoded data removed]",
      "text/plain": [
       "<Figure size 1152x576 with 1 Axes>"
      ]
     },
     "metadata": {
      "needs_background": "light"
     },
     "output_type": "display_data"
    }
   ],
   "source": [
    "target_stop.loc[target_stop['load'] == 'SDA'].boxplot(column='duration_seconds',figsize=(16,8))"
   ]
  },
  {
   "cell_type": "code",
   "execution_count": 104,
   "id": "d683d58b",
   "metadata": {},
   "outputs": [
    {
     "data": {
      "text/plain": [
       "array(['DD', 'SD'], dtype=object)"
      ]
     },
     "execution_count": 104,
     "metadata": {},
     "output_type": "execute_result"
    }
   ],
   "source": [
    "df['type'].unique()"
   ]
  },
  {
   "cell_type": "markdown",
   "id": "425b3bda",
   "metadata": {},
   "source": [
    "## Plot of Bus Type (Single-deck) vs Travel Duration"
   ]
  },
  {
   "cell_type": "code",
   "execution_count": 105,
   "id": "080b5baa",
   "metadata": {},
   "outputs": [
    {
     "data": {
      "text/plain": [
       "<AxesSubplot:>"
      ]
     },
     "execution_count": 105,
     "metadata": {},
     "output_type": "execute_result"
    },
    {
     "data": {
      "image/png": "[encoded data removed]",
      "text/plain": [
       "<Figure size 1152x576 with 1 Axes>"
      ]
     },
     "metadata": {
      "needs_background": "light"
     },
     "output_type": "display_data"
    }
   ],
   "source": [
    "target_stop.loc[target_stop['type'] == 'SD'].boxplot(column='duration_seconds',figsize=(16,8))"
   ]
  },
  {
   "cell_type": "markdown",
   "id": "88cfed90",
   "metadata": {},
   "source": [
    "## Plot of Bus Type (Double-deck) vs Travel Duration\n",
    "\n",
    "Does the type of bus affects the travel duration?"
   ]
  },
  {
   "cell_type": "code",
   "execution_count": 106,
   "id": "7d90bb3c",
   "metadata": {},
   "outputs": [
    {
     "data": {
      "text/plain": [
       "<AxesSubplot:>"
      ]
     },
     "execution_count": 106,
     "metadata": {},
     "output_type": "execute_result"
    },
    {
     "data": {
      "image/png": "[encoded data removed]",
      "text/plain": [
       "<Figure size 1152x576 with 1 Axes>"
      ]
     },
     "metadata": {
      "needs_background": "light"
     },
     "output_type": "display_data"
    }
   ],
   "source": [
    "target_stop.loc[target_stop['type'] == 'DD'].boxplot(column='duration_seconds',figsize=(16,8))"
   ]
  },
  {
   "cell_type": "code",
   "execution_count": null,
   "id": "eff3887f",
   "metadata": {},
   "outputs": [],
   "source": []
  },
  {
   "cell_type": "markdown",
   "id": "d4692c4b",
   "metadata": {},
   "source": [
    "# Summary\n",
    "\n",
    "## Findings\n",
    "1. Time of the day shows a non-linear correlation to the travel duration between two stops\n"
   ]
  },
  {
   "cell_type": "code",
   "execution_count": null,
   "id": "d127c7e4",
   "metadata": {},
   "outputs": [],
   "source": []
  }
 ],
 "metadata": {
  "kernelspec": {
   "display_name": "Python 3 (ipykernel)",
   "language": "python",
   "name": "python3"
  },
  "language_info": {
   "codemirror_mode": {
    "name": "ipython",
    "version": 3
   },
   "file_extension": ".py",
   "mimetype": "text/x-python",
   "name": "python",
   "nbconvert_exporter": "python",
   "pygments_lexer": "ipython3",
   "version": "3.9.0"
  }
 },
 "nbformat": 4,
 "nbformat_minor": 5
}
